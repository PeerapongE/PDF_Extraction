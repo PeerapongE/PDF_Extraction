{
 "cells": [
  {
   "cell_type": "markdown",
   "metadata": {},
   "source": [
    "<h1 align=\"Left\"> Automate Routine Task With Python Workshop </h1>\n",
    "\n",
    "<h2 align=\"left\"> PDF Reading Automation </h2>\n",
    "\n",
    "<img src = \"pic_data/Dextract.png\" width = \"500\" align=\"center\">\n",
    "\n",
    "<img src = \"pic_data/elephant_logo.jpg\" width = \"300\">\n",
    "\n"
   ]
  },
  {
   "cell_type": "markdown",
   "metadata": {},
   "source": [
    "### installation\n",
    "\n",
    "pip install PyPDF2"
   ]
  },
  {
   "cell_type": "markdown",
   "metadata": {},
   "source": [
    "### Reference\n",
    "\n",
    "Reference\n",
    "\n",
    "https://dzone.com/articles/an-intro-to-pypdf2\n",
    "\n",
    "Documentation\n",
    "\n",
    "https://pythonhosted.org/PyPDF2/\n",
    "\n",
    "Git-Hub\n",
    "\n",
    "https://github.com/mstamy2/PyPDF2 "
   ]
  },
  {
   "cell_type": "code",
   "execution_count": null,
   "metadata": {},
   "outputs": [],
   "source": [
    "# pip install pypdf2\n",
    "import PyPDF2"
   ]
  },
  {
   "cell_type": "markdown",
   "metadata": {},
   "source": [
    "## Extract PDF object\n",
    ".PdfFileReader(file)"
   ]
  },
  {
   "cell_type": "code",
   "execution_count": null,
   "metadata": {},
   "outputs": [],
   "source": [
    "# เปิดไฟล์ sample.pdf แล้วสร้างตัวอ่านไฟล์\n",
    "file = open('sample.pdf','rb')\n",
    "pdfObj = PyPDF2.PdfFileReader(file)"
   ]
  },
  {
   "cell_type": "code",
   "execution_count": null,
   "metadata": {},
   "outputs": [],
   "source": [
    "pdfObj"
   ]
  },
  {
   "cell_type": "markdown",
   "metadata": {},
   "source": [
    "## Number of page\n",
    ".numPages"
   ]
  },
  {
   "cell_type": "code",
   "execution_count": null,
   "metadata": {},
   "outputs": [],
   "source": [
    "# จำนวนหน้าในไฟล์\n",
    "pdfObj.numPages"
   ]
  },
  {
   "cell_type": "markdown",
   "metadata": {},
   "source": [
    "## PDF information\n",
    ".getDocumentInfo()\n",
    "\n",
    "คล้ายๆ เรียกจาก dictionary"
   ]
  },
  {
   "cell_type": "code",
   "execution_count": null,
   "metadata": {},
   "outputs": [],
   "source": [
    "# Get info of this document\n",
    "info = pdfObj.getDocumentInfo()\n",
    "info"
   ]
  },
  {
   "cell_type": "code",
   "execution_count": null,
   "metadata": {},
   "outputs": [],
   "source": [
    "info['/Creator']"
   ]
  },
  {
   "cell_type": "code",
   "execution_count": null,
   "metadata": {},
   "outputs": [],
   "source": [
    "info['/Producer']"
   ]
  },
  {
   "cell_type": "code",
   "execution_count": null,
   "metadata": {},
   "outputs": [],
   "source": [
    "info['/CreationDate']"
   ]
  },
  {
   "cell_type": "markdown",
   "metadata": {},
   "source": [
    "## Get PDF page object\n",
    ".getPage(i)\n",
    "\n",
    "i คือ index ของ page, หน้าแรกเริ่มจาก 0"
   ]
  },
  {
   "cell_type": "code",
   "execution_count": null,
   "metadata": {},
   "outputs": [],
   "source": [
    "# เข้าถึงหน้าแรกด้วย index 0 (หน้าที่ n ใด ๆ ด้วย index n-1)\n",
    "page1 = pdfObj.getPage(0)\n",
    "page1"
   ]
  },
  {
   "cell_type": "code",
   "execution_count": null,
   "metadata": {},
   "outputs": [],
   "source": [
    "# ดึงเฉพาะข้อความออกมาจาก page object\n",
    "# .extractText()\n",
    "page1.extractText()"
   ]
  },
  {
   "cell_type": "code",
   "execution_count": null,
   "metadata": {},
   "outputs": [],
   "source": [
    "# ชนิดข้อมูลที่ได้คือ string --> เราสามารถใช้ Python เข้าไปจัดการ string ต่อได้สบายๆละครับ\n",
    "type(page1.extractText())"
   ]
  },
  {
   "cell_type": "markdown",
   "metadata": {},
   "source": [
    "## Write to .pdf file"
   ]
  },
  {
   "cell_type": "code",
   "execution_count": null,
   "metadata": {},
   "outputs": [],
   "source": [
    "# สร้างตัวเขียนไฟล์ (เหมือนตรายางเปล่า) เตรียมไว้ก่อน\n",
    "pdfWriter = PyPDF2.PdfFileWriter()\n",
    "pdfWriter"
   ]
  },
  {
   "cell_type": "code",
   "execution_count": null,
   "metadata": {},
   "outputs": [],
   "source": [
    "# Recall object ของ page หน้าแรก\n",
    "page1"
   ]
  },
  {
   "cell_type": "code",
   "execution_count": null,
   "metadata": {},
   "outputs": [],
   "source": [
    "# ทบทวน: page1 มาจากไฟล์ sample.pdf ที่อ่านไว้\n",
    "# แกะสลัก page1 ลงบนตรายางเปล่า ผ่าน pdfWriter ที่สร้างขึนมา\n",
    "pdfWriter.addPage(page1)\n",
    "pdfWriter"
   ]
  },
  {
   "cell_type": "markdown",
   "metadata": {},
   "source": [
    "คำสั่ง addPage ใช้ได้กับ page ที่อ่านมาจาก reader เท่านั้น"
   ]
  },
  {
   "cell_type": "code",
   "execution_count": null,
   "metadata": {},
   "outputs": [],
   "source": [
    "out = open('out.pdf','wb') # เปิดไฟล์ปลายทาง (เพิ่งเปิดขึ้นมาใหม่ เป็นไฟล์เปล่า ๆ)\n",
    "pdfWriter.write(out) # ปั๊มตรายางลงบนไฟล์ปลายทาง\n",
    "out.close() #ปิดไฟล์ปลายทาง"
   ]
  },
  {
   "cell_type": "code",
   "execution_count": null,
   "metadata": {},
   "outputs": [],
   "source": [
    "# เปิดหน้า 2 ของไฟล์ sample.pdf\n",
    "page2 = pdfObj.getPage(1)"
   ]
  },
  {
   "cell_type": "code",
   "execution_count": null,
   "metadata": {},
   "outputs": [],
   "source": [
    "page2"
   ]
  },
  {
   "cell_type": "code",
   "execution_count": null,
   "metadata": {},
   "outputs": [],
   "source": [
    "# แกะสลัก page2 ลงบนตรายางเปล่า\n",
    "pdfWriter.addPage(page2)"
   ]
  },
  {
   "cell_type": "code",
   "execution_count": null,
   "metadata": {},
   "outputs": [],
   "source": [
    "out = open('out2.pdf','wb') # เปิดไฟล์ปลายทาง (มี page1 อยู่แล้ว)\n",
    "pdfWriter.write(out) # ปั๊มตรายางลงบนไฟล์ปลายทาง\n",
    "out.close() #ปิดไฟล์ปลายทาง"
   ]
  },
  {
   "cell_type": "markdown",
   "metadata": {},
   "source": [
    "## Split pdf\n",
    "\n",
    "แยก file pdf ออกตามหน้าต่างๆ\n",
    "\n",
    "จริงๆ มั้นก็คือ วน loop อ่าน แต่ละหน้า แล้ว save file .pdf แยก"
   ]
  },
  {
   "cell_type": "code",
   "execution_count": null,
   "metadata": {},
   "outputs": [],
   "source": [
    "import os"
   ]
  },
  {
   "cell_type": "code",
   "execution_count": null,
   "metadata": {},
   "outputs": [],
   "source": [
    "path = 'sample.pdf'"
   ]
  },
  {
   "cell_type": "code",
   "execution_count": null,
   "metadata": {},
   "outputs": [],
   "source": [
    "# file name without suffix\n",
    "fname = os.path.splitext(os.path.basename(path))[0]\n",
    "fname"
   ]
  },
  {
   "cell_type": "code",
   "execution_count": null,
   "metadata": {},
   "outputs": [],
   "source": [
    "pdf = PyPDF2.PdfFileReader(path)\n",
    "pdf"
   ]
  },
  {
   "cell_type": "code",
   "execution_count": null,
   "metadata": {},
   "outputs": [],
   "source": [
    "# เรียกใช้ในรูปแบบ function\n",
    "def pdf_splitter(path):\n",
    "    fname = os.path.splitext(os.path.basename(path))[0] # แยก file name ออกจาก suffix\n",
    "    pdf = PyPDF2.PdfFileReader(path) # อ่าน pdf file\n",
    "    for page in range(pdf.getNumPages()): # วนลูปทุกๆ page ใน pdf object\n",
    "        pdf_writer         = PyPDF2.PdfFileWriter() # สร้าง pdf writer object\n",
    "        pdf_writer.addPage(pdf.getPage(page)) # เพิ่ม page ที่ วน loop เข้าไป\n",
    "        output_filename    = '{}_page_{}.pdf'.format(fname, page+1) # สร้าง filename ตาม page ที่วนลูป\n",
    "        with open(output_filename, 'wb') as out: # write output\n",
    "            pdf_writer.write(out)\n",
    "        print('Created: {}'.format(output_filename)) # แสดงค่า ออกมาใน python\n",
    "\n"
   ]
  },
  {
   "cell_type": "code",
   "execution_count": null,
   "metadata": {},
   "outputs": [],
   "source": [
    "pdf_splitter('sample.pdf')"
   ]
  },
  {
   "cell_type": "code",
   "execution_count": null,
   "metadata": {},
   "outputs": [],
   "source": []
  }
 ],
 "metadata": {
  "kernelspec": {
   "display_name": "Python 3",
   "language": "python",
   "name": "python3"
  },
  "language_info": {
   "codemirror_mode": {
    "name": "ipython",
    "version": 3
   },
   "file_extension": ".py",
   "mimetype": "text/x-python",
   "name": "python",
   "nbconvert_exporter": "python",
   "pygments_lexer": "ipython3",
   "version": "3.7.0"
  }
 },
 "nbformat": 4,
 "nbformat_minor": 2
}
